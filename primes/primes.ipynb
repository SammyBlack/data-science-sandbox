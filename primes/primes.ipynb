{
 "cells": [
  {
   "cell_type": "markdown",
   "id": "c87553c4",
   "metadata": {},
   "source": [
    "# Primes"
   ]
  },
  {
   "cell_type": "markdown",
   "id": "08943e57",
   "metadata": {},
   "source": [
    "## List primes"
   ]
  },
  {
   "cell_type": "code",
   "execution_count": 1,
   "id": "46b16e1f",
   "metadata": {},
   "outputs": [],
   "source": [
    "def primes_below(n, verbose=False): \n",
    "    \"\"\"\n",
    "    Return list of primes less than n. \n",
    "\n",
    "    e.g.\n",
    "    > primes_below(20)\n",
    "    [2, 3, 5, 7, 11, 13, 17, 19]\n",
    "    \"\"\"\n",
    "    if not verbose: \n",
    "        primes = []\n",
    "        for k in range(2, n):\n",
    "            if all([k%p for p in primes]):\n",
    "                primes.append(k)\n",
    "    else:\n",
    "        d = len(str(n-1))\n",
    "        primes = []\n",
    "        for k in range(2, n):\n",
    "            if all([k%p for p in primes]):\n",
    "                print('\\033[1m' + str(k).rjust(d) + '\\033[0m', end=' ')\n",
    "                primes.append(k)\n",
    "                print()\n",
    "            else:\n",
    "                print(str(k).rjust(d), end=' ')                \n",
    "    return primes"
   ]
  },
  {
   "cell_type": "code",
   "execution_count": 2,
   "id": "5009fdc5",
   "metadata": {},
   "outputs": [
    {
     "name": "stdout",
     "output_type": "stream",
     "text": [
      "Help on function primes_below in module __main__:\n",
      "\n",
      "primes_below(n, verbose=False)\n",
      "    Return list of primes less than n. \n",
      "    \n",
      "    e.g.\n",
      "    > primes_below(20)\n",
      "    [2, 3, 5, 7, 11, 13, 17, 19]\n",
      "\n"
     ]
    }
   ],
   "source": [
    "help(primes_below)"
   ]
  },
  {
   "cell_type": "code",
   "execution_count": 3,
   "id": "868144bc",
   "metadata": {},
   "outputs": [
    {
     "data": {
      "text/plain": [
       "[2, 3, 5, 7, 11, 13, 17, 19, 23, 29, 31, 37, 41, 43, 47]"
      ]
     },
     "execution_count": 3,
     "metadata": {},
     "output_type": "execute_result"
    }
   ],
   "source": [
    "primes_below(50)"
   ]
  },
  {
   "cell_type": "code",
   "execution_count": 4,
   "id": "1f50f951",
   "metadata": {},
   "outputs": [
    {
     "name": "stdout",
     "output_type": "stream",
     "text": [
      "\u001b[1m 2\u001b[0m \n",
      "\u001b[1m 3\u001b[0m \n",
      " 4 \u001b[1m 5\u001b[0m \n",
      " 6 \u001b[1m 7\u001b[0m \n",
      " 8  9 10 \u001b[1m11\u001b[0m \n",
      "12 \u001b[1m13\u001b[0m \n",
      "14 15 16 \u001b[1m17\u001b[0m \n",
      "18 \u001b[1m19\u001b[0m \n",
      "20 21 22 \u001b[1m23\u001b[0m \n",
      "24 25 26 27 28 \u001b[1m29\u001b[0m \n",
      "30 \u001b[1m31\u001b[0m \n",
      "32 33 34 35 36 \u001b[1m37\u001b[0m \n",
      "38 39 40 \u001b[1m41\u001b[0m \n",
      "42 \u001b[1m43\u001b[0m \n",
      "44 45 46 \u001b[1m47\u001b[0m \n",
      "48 49 "
     ]
    }
   ],
   "source": [
    "primes = primes_below(50, verbose=True)"
   ]
  },
  {
   "cell_type": "markdown",
   "id": "a8083755",
   "metadata": {},
   "source": [
    "## Record prime gaps"
   ]
  },
  {
   "cell_type": "code",
   "execution_count": 5,
   "id": "9b0ea873",
   "metadata": {},
   "outputs": [],
   "source": [
    "def prime_gaps(n, verbose=False): \n",
    "    \"\"\"\n",
    "    Return list of prime gaps \n",
    "    for all primes less than n. \n",
    "\n",
    "    e.g.\n",
    "    > primes_gaps(20)\n",
    "    % primes = [2, 3, 5, 7, 11, 13, 17, 19]\n",
    "    ([1, 2, 2, 4, 2, 4, 2], 4, [4, 6]) \n",
    "    \"\"\"\n",
    "    d = len(str(n))\n",
    "    primes = [2]          # initialize prime list\n",
    "    gaps = []             # initialize prime gap list\n",
    "    max_gap = 0           # initialize max gap \n",
    "    max_gap_args = []     # initialize max gap arguments\n",
    "    max_gap_primes = []   # initialize max gap primes\n",
    "    i = 0                 # initialize prime counter\n",
    "    for k in range(3, n):\n",
    "        if all([k%p for p in primes]):\n",
    "            i += 1\n",
    "            gap = k - primes[-1]\n",
    "            gaps.append(gap)\n",
    "            primes.append(k)\n",
    "            if gap == max_gap: \n",
    "#                print('Hit max again:      ', gap)\n",
    "                max_gap_args.append(i)\n",
    "                max_gap_primes.append(k) \n",
    "                if verbose: \n",
    "                    print(str(max_gap).rjust(d), '  ||  ', str(i).rjust(d), '  ||  ', str(k).rjust(d))\n",
    "            elif gap > max_gap:\n",
    "#                print('New max:            ', gap) \n",
    "                max_gap = gap\n",
    "                max_gap_args = [i]\n",
    "                max_gap_primes = [k] \n",
    "                if verbose: \n",
    "                    print(str(max_gap).rjust(d), '  ||  ', str(i).rjust(d), '  ||  ', str(k).rjust(d))\n",
    "    return (gaps, max_gap, max_gap_args, max_gap_primes)"
   ]
  },
  {
   "cell_type": "code",
   "execution_count": 6,
   "id": "c166389a",
   "metadata": {},
   "outputs": [
    {
     "name": "stdout",
     "output_type": "stream",
     "text": [
      " gap   ||   index  ||  greater prime\n",
      "=====================================\n",
      "   1   ||      1   ||      3\n",
      "   2   ||      2   ||      5\n",
      "   2   ||      3   ||      7\n",
      "   4   ||      4   ||     11\n",
      "   4   ||      6   ||     17\n",
      "   4   ||      8   ||     23\n",
      "   6   ||      9   ||     29\n",
      "   6   ||     11   ||     37\n",
      "   6   ||     15   ||     53\n",
      "   6   ||     16   ||     59\n",
      "   6   ||     18   ||     67\n",
      "   6   ||     21   ||     79\n",
      "   6   ||     23   ||     89\n",
      "   8   ||     24   ||     97\n",
      "  14   ||     30   ||    127\n",
      "  14   ||     62   ||    307\n",
      "  14   ||     66   ||    331\n",
      "  18   ||     99   ||    541\n",
      "  20   ||    154   ||    907\n",
      "\n",
      "[1, 2, 2, 4, 2, 4, 2, 4, 6, 2, 6, 4, 2, 4, 6, 6, 2, 6, 4, 2, 6, 4, 6, 8, 4, 2, 4, 2, 4, 14, 4, 6, 2, 10, 2, 6, 6, 4, 6, 6, 2, 10, 2, 4, 2, 12, 12, 4, 2, 4, 6, 2, 10, 6, 6, 6, 2, 6, 4, 2, 10, 14, 4, 2, 4, 14, 6, 10, 2, 4, 6, 8, 6, 6, 4, 6, 8, 4, 8, 10, 2, 10, 2, 6, 4, 6, 8, 4, 2, 4, 12, 8, 4, 8, 4, 6, 12, 2, 18, 6, 10, 6, 6, 2, 6, 10, 6, 6, 2, 6, 6, 4, 2, 12, 10, 2, 4, 6, 6, 2, 12, 4, 6, 8, 10, 8, 10, 8, 6, 6, 4, 8, 6, 4, 8, 4, 14, 10, 12, 2, 10, 2, 4, 2, 10, 14, 4, 2, 4, 14, 4, 2, 4, 20, 4, 8, 10, 8, 4, 6, 6, 14, 4, 6, 6, 8, 6]\n"
     ]
    }
   ],
   "source": [
    "print(' gap   ||   index  ||  greater prime') \n",
    "print(37*'=')\n",
    "gaps, _, _, _ = prime_gaps(1000, verbose=True) \n",
    "print() \n",
    "print(gaps)"
   ]
  },
  {
   "cell_type": "code",
   "execution_count": 7,
   "id": "3856acae",
   "metadata": {},
   "outputs": [
    {
     "name": "stdout",
     "output_type": "stream",
     "text": [
      "    10:  gap of size 2 first occurs between primes 3 and 5 at indices 2 and 3\n",
      "   100:  gap of size 8 first occurs between primes 89 and 97 at indices 24 and 25\n",
      "  1000:  gap of size 20 first occurs between primes 887 and 907 at indices 154 and 155\n",
      " 10000:  gap of size 36 first occurs between primes 9551 and 9587 at indices 1183 and 1184\n",
      "100000:  gap of size 72 first occurs between primes 31397 and 31469 at indices 3385 and 3386\n"
     ]
    }
   ],
   "source": [
    "E = 6\n",
    "for e in range(1, E): \n",
    "    n = 10**e\n",
    "    _, max_gap, max_gap_args, max_gap_primes = prime_gaps(n) \n",
    "    d = len(str(max_gap))\n",
    "    out_str = '{}:  gap of size {} first occurs between primes {} and {} at indices {} and {}'\n",
    "    max_gap_str = str(max_gap).rjust(d) \n",
    "    i = max_gap_args[0]\n",
    "    q = max_gap_primes[0]\n",
    "    p = q - max_gap\n",
    "    print(out_str.format(str(n).rjust(E), max_gap_str, p, q, i, i+1)) "
   ]
  },
  {
   "cell_type": "markdown",
   "id": "0eaa26f9",
   "metadata": {},
   "source": [
    "## A curious product over the primes"
   ]
  },
  {
   "cell_type": "code",
   "execution_count": 8,
   "id": "6b725522",
   "metadata": {},
   "outputs": [],
   "source": [
    "from math import log \n",
    "\n",
    "def f(x): \n",
    "    return (x**2 + 1)/(x**2 - 1)\n",
    "\n",
    "def primes_pp(n): \n",
    "    \"\"\"\n",
    "    Return list of primes less than n. \n",
    "\n",
    "    e.g.\n",
    "    > primes_below(20)\n",
    "    [2, 3, 5, 7, 11, 13, 17, 19]\n",
    "    \"\"\"\n",
    "    primes = []\n",
    "    partial_prod = 1\n",
    "    for k in range(2, n):\n",
    "        if all([k%p for p in primes]):\n",
    "            primes.append(k)\n",
    "            partial_prod *= f(k)\n",
    "#            print(str(k).rjust(3), str(partial_prod).ljust(20), round(-log(1 - partial_prod / 2.5), 2))\n",
    "    return partial_prod"
   ]
  },
  {
   "cell_type": "code",
   "execution_count": 9,
   "id": "c43f2add",
   "metadata": {},
   "outputs": [
    {
     "name": "stdout",
     "output_type": "stream",
     "text": [
      "    10 2.3509837962962967\n",
      "   100 2.4909233581813726\n",
      "  1000 2.499365131666407\n",
      " 10000 2.499950921976173\n",
      "100000 2.4999959887581786\n"
     ]
    }
   ],
   "source": [
    "E = 6\n",
    "for e in range(1, E): \n",
    "    n = 10**e\n",
    "    print(str(n).rjust(E), primes_pp(n))"
   ]
  }
 ],
 "metadata": {
  "kernelspec": {
   "display_name": "Python 3 (ipykernel)",
   "language": "python",
   "name": "python3"
  },
  "language_info": {
   "codemirror_mode": {
    "name": "ipython",
    "version": 3
   },
   "file_extension": ".py",
   "mimetype": "text/x-python",
   "name": "python",
   "nbconvert_exporter": "python",
   "pygments_lexer": "ipython3",
   "version": "3.10.6"
  },
  "vscode": {
   "interpreter": {
    "hash": "916dbcbb3f70747c44a77c7bcd40155683ae19c65e1c03b4aa3499c5328201f1"
   }
  }
 },
 "nbformat": 4,
 "nbformat_minor": 5
}
