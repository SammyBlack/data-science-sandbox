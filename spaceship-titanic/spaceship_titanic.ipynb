{
 "cells": [
  {
   "cell_type": "markdown",
   "id": "622f91b3",
   "metadata": {},
   "source": [
    "# Spaceship Titanic \n",
    "## Use passenger data to predict who gets transported to an alternate dimension "
   ]
  },
  {
   "cell_type": "markdown",
   "id": "d5cfda2b",
   "metadata": {},
   "source": [
    "https://www.kaggle.com/competitions/spaceship-titanic"
   ]
  },
  {
   "cell_type": "code",
   "execution_count": 1,
   "id": "5193235d",
   "metadata": {},
   "outputs": [
    {
     "name": "stdout",
     "output_type": "stream",
     "text": [
      "/home/sammy/projects/data-science-sandbox/spaceship-titanic\n"
     ]
    }
   ],
   "source": [
    "%cd ~/code/kaggle/spaceship-titanic "
   ]
  },
  {
   "cell_type": "code",
   "execution_count": 2,
   "id": "6b497382",
   "metadata": {},
   "outputs": [],
   "source": [
    "# Import libraries \n",
    "import numpy as np \n",
    "import pandas as pd \n",
    "import matplotlib.pyplot as plt \n",
    "import seaborn as sns; sns.set() \n",
    "from sklearn.ensemble import RandomForestClassifier \n",
    "from sklearn.metrics import classification_report \n",
    "from sklearn.metrics import confusion_matrix \n",
    "from sklearn.model_selection import train_test_split"
   ]
  },
  {
   "cell_type": "markdown",
   "id": "b4d0e5a2",
   "metadata": {},
   "source": [
    "## Load and explore data"
   ]
  },
  {
   "cell_type": "code",
   "execution_count": 3,
   "id": "1ab0b1b2",
   "metadata": {},
   "outputs": [],
   "source": [
    "# Load the train and test data \n",
    "data_path = 'data/'\n",
    "train_data = pd.read_csv(data_path + 'train.csv')\n",
    "test_data = pd.read_csv(data_path + 'test.csv')"
   ]
  },
  {
   "cell_type": "code",
   "execution_count": 4,
   "id": "71ff7a73",
   "metadata": {
    "scrolled": true
   },
   "outputs": [
    {
     "data": {
      "text/html": [
       "<div>\n",
       "<style scoped>\n",
       "    .dataframe tbody tr th:only-of-type {\n",
       "        vertical-align: middle;\n",
       "    }\n",
       "\n",
       "    .dataframe tbody tr th {\n",
       "        vertical-align: top;\n",
       "    }\n",
       "\n",
       "    .dataframe thead th {\n",
       "        text-align: right;\n",
       "    }\n",
       "</style>\n",
       "<table border=\"1\" class=\"dataframe\">\n",
       "  <thead>\n",
       "    <tr style=\"text-align: right;\">\n",
       "      <th></th>\n",
       "      <th>PassengerId</th>\n",
       "      <th>HomePlanet</th>\n",
       "      <th>CryoSleep</th>\n",
       "      <th>Cabin</th>\n",
       "      <th>Destination</th>\n",
       "      <th>Age</th>\n",
       "      <th>VIP</th>\n",
       "      <th>RoomService</th>\n",
       "      <th>FoodCourt</th>\n",
       "      <th>ShoppingMall</th>\n",
       "      <th>Spa</th>\n",
       "      <th>VRDeck</th>\n",
       "      <th>Name</th>\n",
       "      <th>Transported</th>\n",
       "    </tr>\n",
       "  </thead>\n",
       "  <tbody>\n",
       "    <tr>\n",
       "      <th>0</th>\n",
       "      <td>0001_01</td>\n",
       "      <td>Europa</td>\n",
       "      <td>False</td>\n",
       "      <td>B/0/P</td>\n",
       "      <td>TRAPPIST-1e</td>\n",
       "      <td>39.0</td>\n",
       "      <td>False</td>\n",
       "      <td>0.0</td>\n",
       "      <td>0.0</td>\n",
       "      <td>0.0</td>\n",
       "      <td>0.0</td>\n",
       "      <td>0.0</td>\n",
       "      <td>Maham Ofracculy</td>\n",
       "      <td>False</td>\n",
       "    </tr>\n",
       "    <tr>\n",
       "      <th>1</th>\n",
       "      <td>0002_01</td>\n",
       "      <td>Earth</td>\n",
       "      <td>False</td>\n",
       "      <td>F/0/S</td>\n",
       "      <td>TRAPPIST-1e</td>\n",
       "      <td>24.0</td>\n",
       "      <td>False</td>\n",
       "      <td>109.0</td>\n",
       "      <td>9.0</td>\n",
       "      <td>25.0</td>\n",
       "      <td>549.0</td>\n",
       "      <td>44.0</td>\n",
       "      <td>Juanna Vines</td>\n",
       "      <td>True</td>\n",
       "    </tr>\n",
       "    <tr>\n",
       "      <th>2</th>\n",
       "      <td>0003_01</td>\n",
       "      <td>Europa</td>\n",
       "      <td>False</td>\n",
       "      <td>A/0/S</td>\n",
       "      <td>TRAPPIST-1e</td>\n",
       "      <td>58.0</td>\n",
       "      <td>True</td>\n",
       "      <td>43.0</td>\n",
       "      <td>3576.0</td>\n",
       "      <td>0.0</td>\n",
       "      <td>6715.0</td>\n",
       "      <td>49.0</td>\n",
       "      <td>Altark Susent</td>\n",
       "      <td>False</td>\n",
       "    </tr>\n",
       "    <tr>\n",
       "      <th>3</th>\n",
       "      <td>0003_02</td>\n",
       "      <td>Europa</td>\n",
       "      <td>False</td>\n",
       "      <td>A/0/S</td>\n",
       "      <td>TRAPPIST-1e</td>\n",
       "      <td>33.0</td>\n",
       "      <td>False</td>\n",
       "      <td>0.0</td>\n",
       "      <td>1283.0</td>\n",
       "      <td>371.0</td>\n",
       "      <td>3329.0</td>\n",
       "      <td>193.0</td>\n",
       "      <td>Solam Susent</td>\n",
       "      <td>False</td>\n",
       "    </tr>\n",
       "    <tr>\n",
       "      <th>4</th>\n",
       "      <td>0004_01</td>\n",
       "      <td>Earth</td>\n",
       "      <td>False</td>\n",
       "      <td>F/1/S</td>\n",
       "      <td>TRAPPIST-1e</td>\n",
       "      <td>16.0</td>\n",
       "      <td>False</td>\n",
       "      <td>303.0</td>\n",
       "      <td>70.0</td>\n",
       "      <td>151.0</td>\n",
       "      <td>565.0</td>\n",
       "      <td>2.0</td>\n",
       "      <td>Willy Santantines</td>\n",
       "      <td>True</td>\n",
       "    </tr>\n",
       "  </tbody>\n",
       "</table>\n",
       "</div>"
      ],
      "text/plain": [
       "  PassengerId HomePlanet CryoSleep  Cabin  Destination   Age    VIP  \\\n",
       "0     0001_01     Europa     False  B/0/P  TRAPPIST-1e  39.0  False   \n",
       "1     0002_01      Earth     False  F/0/S  TRAPPIST-1e  24.0  False   \n",
       "2     0003_01     Europa     False  A/0/S  TRAPPIST-1e  58.0   True   \n",
       "3     0003_02     Europa     False  A/0/S  TRAPPIST-1e  33.0  False   \n",
       "4     0004_01      Earth     False  F/1/S  TRAPPIST-1e  16.0  False   \n",
       "\n",
       "   RoomService  FoodCourt  ShoppingMall     Spa  VRDeck               Name  \\\n",
       "0          0.0        0.0           0.0     0.0     0.0    Maham Ofracculy   \n",
       "1        109.0        9.0          25.0   549.0    44.0       Juanna Vines   \n",
       "2         43.0     3576.0           0.0  6715.0    49.0      Altark Susent   \n",
       "3          0.0     1283.0         371.0  3329.0   193.0       Solam Susent   \n",
       "4        303.0       70.0         151.0   565.0     2.0  Willy Santantines   \n",
       "\n",
       "   Transported  \n",
       "0        False  \n",
       "1         True  \n",
       "2        False  \n",
       "3        False  \n",
       "4         True  "
      ]
     },
     "execution_count": 4,
     "metadata": {},
     "output_type": "execute_result"
    }
   ],
   "source": [
    "train_data.head()"
   ]
  },
  {
   "cell_type": "code",
   "execution_count": 5,
   "id": "e310e0de",
   "metadata": {},
   "outputs": [],
   "source": [
    "# Remove passengers with unknown outcome \n",
    "X = train_data.dropna(axis=0, subset=['Transported']) \n",
    "y = X.Transported "
   ]
  },
  {
   "cell_type": "code",
   "execution_count": 6,
   "id": "28b854b0",
   "metadata": {},
   "outputs": [
    {
     "name": "stdout",
     "output_type": "stream",
     "text": [
      "X dims: \t(8693, 14)\n",
      "y dim:  \t 8693\n",
      "True rate: \t50.36%\n"
     ]
    }
   ],
   "source": [
    "# Investigate data types and missing data\n",
    "print('X dims: \\t{}'.format(X.shape))  \n",
    "print('y dim:  \\t {}'.format(y.size))\n",
    "print('True rate: \\t{}%'.format(round(100*y.sum()/y.size, 2)))"
   ]
  },
  {
   "cell_type": "code",
   "execution_count": 7,
   "id": "d8a493d2",
   "metadata": {},
   "outputs": [
    {
     "data": {
      "text/html": [
       "<div>\n",
       "<style scoped>\n",
       "    .dataframe tbody tr th:only-of-type {\n",
       "        vertical-align: middle;\n",
       "    }\n",
       "\n",
       "    .dataframe tbody tr th {\n",
       "        vertical-align: top;\n",
       "    }\n",
       "\n",
       "    .dataframe thead th {\n",
       "        text-align: right;\n",
       "    }\n",
       "</style>\n",
       "<table border=\"1\" class=\"dataframe\">\n",
       "  <thead>\n",
       "    <tr style=\"text-align: right;\">\n",
       "      <th></th>\n",
       "      <th>type</th>\n",
       "      <th>unique_count</th>\n",
       "      <th>NaN_count</th>\n",
       "    </tr>\n",
       "  </thead>\n",
       "  <tbody>\n",
       "    <tr>\n",
       "      <th>PassengerId</th>\n",
       "      <td>object</td>\n",
       "      <td>8693</td>\n",
       "      <td>0</td>\n",
       "    </tr>\n",
       "    <tr>\n",
       "      <th>HomePlanet</th>\n",
       "      <td>object</td>\n",
       "      <td>3</td>\n",
       "      <td>201</td>\n",
       "    </tr>\n",
       "    <tr>\n",
       "      <th>CryoSleep</th>\n",
       "      <td>object</td>\n",
       "      <td>2</td>\n",
       "      <td>217</td>\n",
       "    </tr>\n",
       "    <tr>\n",
       "      <th>Cabin</th>\n",
       "      <td>object</td>\n",
       "      <td>6560</td>\n",
       "      <td>199</td>\n",
       "    </tr>\n",
       "    <tr>\n",
       "      <th>Destination</th>\n",
       "      <td>object</td>\n",
       "      <td>3</td>\n",
       "      <td>182</td>\n",
       "    </tr>\n",
       "    <tr>\n",
       "      <th>Age</th>\n",
       "      <td>float64</td>\n",
       "      <td>80</td>\n",
       "      <td>179</td>\n",
       "    </tr>\n",
       "    <tr>\n",
       "      <th>VIP</th>\n",
       "      <td>object</td>\n",
       "      <td>2</td>\n",
       "      <td>203</td>\n",
       "    </tr>\n",
       "    <tr>\n",
       "      <th>RoomService</th>\n",
       "      <td>float64</td>\n",
       "      <td>1273</td>\n",
       "      <td>181</td>\n",
       "    </tr>\n",
       "    <tr>\n",
       "      <th>FoodCourt</th>\n",
       "      <td>float64</td>\n",
       "      <td>1507</td>\n",
       "      <td>183</td>\n",
       "    </tr>\n",
       "    <tr>\n",
       "      <th>ShoppingMall</th>\n",
       "      <td>float64</td>\n",
       "      <td>1115</td>\n",
       "      <td>208</td>\n",
       "    </tr>\n",
       "    <tr>\n",
       "      <th>Spa</th>\n",
       "      <td>float64</td>\n",
       "      <td>1327</td>\n",
       "      <td>183</td>\n",
       "    </tr>\n",
       "    <tr>\n",
       "      <th>VRDeck</th>\n",
       "      <td>float64</td>\n",
       "      <td>1306</td>\n",
       "      <td>188</td>\n",
       "    </tr>\n",
       "    <tr>\n",
       "      <th>Name</th>\n",
       "      <td>object</td>\n",
       "      <td>8473</td>\n",
       "      <td>200</td>\n",
       "    </tr>\n",
       "    <tr>\n",
       "      <th>Transported</th>\n",
       "      <td>bool</td>\n",
       "      <td>2</td>\n",
       "      <td>0</td>\n",
       "    </tr>\n",
       "  </tbody>\n",
       "</table>\n",
       "</div>"
      ],
      "text/plain": [
       "                 type  unique_count  NaN_count\n",
       "PassengerId    object          8693          0\n",
       "HomePlanet     object             3        201\n",
       "CryoSleep      object             2        217\n",
       "Cabin          object          6560        199\n",
       "Destination    object             3        182\n",
       "Age           float64            80        179\n",
       "VIP            object             2        203\n",
       "RoomService   float64          1273        181\n",
       "FoodCourt     float64          1507        183\n",
       "ShoppingMall  float64          1115        208\n",
       "Spa           float64          1327        183\n",
       "VRDeck        float64          1306        188\n",
       "Name           object          8473        200\n",
       "Transported      bool             2          0"
      ]
     },
     "execution_count": 7,
     "metadata": {},
     "output_type": "execute_result"
    }
   ],
   "source": [
    "def col_info(df, cat_features=None): \n",
    "    \"\"\"\n",
    "    From input dataframe df, \n",
    "    returns dataframe with \n",
    "        rows:  features  \n",
    "        cols:  data type, unique count, and NaN count.  \n",
    "    \"\"\"\n",
    "    col_list = [('type', df.dtypes), \n",
    "                ('unique_count', df.nunique()), \n",
    "                ('NaN_count', df.isna().sum())] \n",
    "    return pd.DataFrame(dict(col_list)) \n",
    "\n",
    "col_info(X) "
   ]
  },
  {
   "cell_type": "markdown",
   "id": "4512ff99",
   "metadata": {},
   "source": [
    "## Preprocess data"
   ]
  },
  {
   "cell_type": "code",
   "execution_count": 8,
   "id": "f7354670",
   "metadata": {},
   "outputs": [],
   "source": [
    "# Replace missing numerical values with median \n",
    "numerical_cols = X.select_dtypes(include=['float64']).columns \n",
    "for col in numerical_cols: \n",
    "    med = X[col].median() \n",
    "    X[col].fillna(med, inplace=True)"
   ]
  },
  {
   "cell_type": "code",
   "execution_count": 9,
   "id": "8a1fec7f",
   "metadata": {},
   "outputs": [],
   "source": [
    "# Split feature 'Cabin' -> ['CabinDeck', 'CabinNum', 'CabinSide']\n",
    "X[['CabinDeck', 'CabinNum', 'CabinSide']] = X['Cabin'].str.split('/', expand=True) \n",
    "X.drop('Cabin', axis=1, inplace=True)"
   ]
  },
  {
   "cell_type": "code",
   "execution_count": 10,
   "id": "f03162fa",
   "metadata": {},
   "outputs": [],
   "source": [
    "# Convert ordinal feature values into integer values \n",
    "int_cols = ['CabinDeck', 'CabinSide'] \n",
    "for col in int_cols: \n",
    "    X[col], _ = pd.factorize(X[col], sort=True, na_sentinel=None) "
   ]
  },
  {
   "cell_type": "code",
   "execution_count": 11,
   "id": "cbaf0d6d",
   "metadata": {},
   "outputs": [],
   "source": [
    "# Split categorical features into indicator features\n",
    "cat_cols = ['HomePlanet', 'Destination'] \n",
    "X = pd.get_dummies(X, prefix=['Home', 'Dest'], columns=cat_cols) "
   ]
  },
  {
   "cell_type": "code",
   "execution_count": 12,
   "id": "24af2546",
   "metadata": {},
   "outputs": [],
   "source": [
    "# Convert booleans \n",
    "bool_cols = ['CryoSleep', 'VIP']  \n",
    "for col in bool_cols: \n",
    "    X[col] = X[col].astype(bool) "
   ]
  },
  {
   "cell_type": "code",
   "execution_count": 13,
   "id": "13f657e1",
   "metadata": {},
   "outputs": [],
   "source": [
    "# Select features and drop samples with missing values \n",
    "features = ['CryoSleep', 'VIP', \n",
    "       'Age', 'RoomService', 'FoodCourt', 'ShoppingMall', 'Spa', \n",
    "       'VRDeck', 'CabinDeck', 'CabinSide', \n",
    "       'Home_Earth', 'Home_Europa', 'Home_Mars', \n",
    "       'Dest_55 Cancri e', 'Dest_PSO J318.5-22', 'Dest_TRAPPIST-1e']\n",
    "X = X[features + ['Transported']] \n",
    "X.dropna(axis=0, inplace=True) \n",
    "y = X['Transported']\n",
    "X.drop(['Transported'], axis=1, inplace=True); "
   ]
  },
  {
   "cell_type": "code",
   "execution_count": 14,
   "id": "cf890e2c",
   "metadata": {},
   "outputs": [
    {
     "data": {
      "text/html": [
       "<div>\n",
       "<style scoped>\n",
       "    .dataframe tbody tr th:only-of-type {\n",
       "        vertical-align: middle;\n",
       "    }\n",
       "\n",
       "    .dataframe tbody tr th {\n",
       "        vertical-align: top;\n",
       "    }\n",
       "\n",
       "    .dataframe thead th {\n",
       "        text-align: right;\n",
       "    }\n",
       "</style>\n",
       "<table border=\"1\" class=\"dataframe\">\n",
       "  <thead>\n",
       "    <tr style=\"text-align: right;\">\n",
       "      <th></th>\n",
       "      <th>type</th>\n",
       "      <th>unique_count</th>\n",
       "      <th>NaN_count</th>\n",
       "    </tr>\n",
       "  </thead>\n",
       "  <tbody>\n",
       "    <tr>\n",
       "      <th>CryoSleep</th>\n",
       "      <td>bool</td>\n",
       "      <td>2</td>\n",
       "      <td>0</td>\n",
       "    </tr>\n",
       "    <tr>\n",
       "      <th>VIP</th>\n",
       "      <td>bool</td>\n",
       "      <td>2</td>\n",
       "      <td>0</td>\n",
       "    </tr>\n",
       "    <tr>\n",
       "      <th>Age</th>\n",
       "      <td>float64</td>\n",
       "      <td>80</td>\n",
       "      <td>0</td>\n",
       "    </tr>\n",
       "    <tr>\n",
       "      <th>RoomService</th>\n",
       "      <td>float64</td>\n",
       "      <td>1273</td>\n",
       "      <td>0</td>\n",
       "    </tr>\n",
       "    <tr>\n",
       "      <th>FoodCourt</th>\n",
       "      <td>float64</td>\n",
       "      <td>1507</td>\n",
       "      <td>0</td>\n",
       "    </tr>\n",
       "    <tr>\n",
       "      <th>ShoppingMall</th>\n",
       "      <td>float64</td>\n",
       "      <td>1115</td>\n",
       "      <td>0</td>\n",
       "    </tr>\n",
       "    <tr>\n",
       "      <th>Spa</th>\n",
       "      <td>float64</td>\n",
       "      <td>1327</td>\n",
       "      <td>0</td>\n",
       "    </tr>\n",
       "    <tr>\n",
       "      <th>VRDeck</th>\n",
       "      <td>float64</td>\n",
       "      <td>1306</td>\n",
       "      <td>0</td>\n",
       "    </tr>\n",
       "    <tr>\n",
       "      <th>CabinDeck</th>\n",
       "      <td>int64</td>\n",
       "      <td>9</td>\n",
       "      <td>0</td>\n",
       "    </tr>\n",
       "    <tr>\n",
       "      <th>CabinSide</th>\n",
       "      <td>int64</td>\n",
       "      <td>3</td>\n",
       "      <td>0</td>\n",
       "    </tr>\n",
       "    <tr>\n",
       "      <th>Home_Earth</th>\n",
       "      <td>uint8</td>\n",
       "      <td>2</td>\n",
       "      <td>0</td>\n",
       "    </tr>\n",
       "    <tr>\n",
       "      <th>Home_Europa</th>\n",
       "      <td>uint8</td>\n",
       "      <td>2</td>\n",
       "      <td>0</td>\n",
       "    </tr>\n",
       "    <tr>\n",
       "      <th>Home_Mars</th>\n",
       "      <td>uint8</td>\n",
       "      <td>2</td>\n",
       "      <td>0</td>\n",
       "    </tr>\n",
       "    <tr>\n",
       "      <th>Dest_55 Cancri e</th>\n",
       "      <td>uint8</td>\n",
       "      <td>2</td>\n",
       "      <td>0</td>\n",
       "    </tr>\n",
       "    <tr>\n",
       "      <th>Dest_PSO J318.5-22</th>\n",
       "      <td>uint8</td>\n",
       "      <td>2</td>\n",
       "      <td>0</td>\n",
       "    </tr>\n",
       "    <tr>\n",
       "      <th>Dest_TRAPPIST-1e</th>\n",
       "      <td>uint8</td>\n",
       "      <td>2</td>\n",
       "      <td>0</td>\n",
       "    </tr>\n",
       "  </tbody>\n",
       "</table>\n",
       "</div>"
      ],
      "text/plain": [
       "                       type  unique_count  NaN_count\n",
       "CryoSleep              bool             2          0\n",
       "VIP                    bool             2          0\n",
       "Age                 float64            80          0\n",
       "RoomService         float64          1273          0\n",
       "FoodCourt           float64          1507          0\n",
       "ShoppingMall        float64          1115          0\n",
       "Spa                 float64          1327          0\n",
       "VRDeck              float64          1306          0\n",
       "CabinDeck             int64             9          0\n",
       "CabinSide             int64             3          0\n",
       "Home_Earth            uint8             2          0\n",
       "Home_Europa           uint8             2          0\n",
       "Home_Mars             uint8             2          0\n",
       "Dest_55 Cancri e      uint8             2          0\n",
       "Dest_PSO J318.5-22    uint8             2          0\n",
       "Dest_TRAPPIST-1e      uint8             2          0"
      ]
     },
     "execution_count": 14,
     "metadata": {},
     "output_type": "execute_result"
    }
   ],
   "source": [
    "col_info(X)"
   ]
  },
  {
   "cell_type": "markdown",
   "id": "79e851ca",
   "metadata": {},
   "source": [
    "## Train and validate model"
   ]
  },
  {
   "cell_type": "code",
   "execution_count": 15,
   "id": "7ccb56e2",
   "metadata": {},
   "outputs": [],
   "source": [
    "# Split into validation and training data\n",
    "train_X, val_X, train_y, val_y = train_test_split(X, y, random_state=0)"
   ]
  },
  {
   "cell_type": "code",
   "execution_count": 16,
   "id": "66d77f1a",
   "metadata": {},
   "outputs": [
    {
     "name": "stdout",
     "output_type": "stream",
     "text": [
      "Fitting 3 folds for each of 16 candidates, totalling 48 fits\n",
      "{'max_depth': 9, 'n_estimators': 40}\n"
     ]
    }
   ],
   "source": [
    "# Find best parameters \n",
    "from sklearn.model_selection import GridSearchCV \n",
    "# from sklearn.metrics import f1_score \n",
    "\n",
    "param_grid = {'max_depth': range(8, 12),\n",
    "              'n_estimators': range(40, 60, 5)}\n",
    "\n",
    "grid = GridSearchCV(RandomForestClassifier(), param_grid, \n",
    "                    scoring='f1', cv=3, verbose=1) \n",
    "grid.fit(train_X, train_y);  \n",
    "\n",
    "best_params = grid.best_params_ \n",
    "print(best_params) "
   ]
  },
  {
   "cell_type": "code",
   "execution_count": 17,
   "id": "4c0597b1",
   "metadata": {},
   "outputs": [],
   "source": [
    "# Define a random forest classifier model and train \n",
    "rf_model = RandomForestClassifier(**best_params)\n",
    "rf_model.fit(train_X, train_y) \n",
    "\n",
    "# Use model to predict boolean 'Transported' \n",
    "rf_val_predictions = rf_model.predict(val_X)"
   ]
  },
  {
   "cell_type": "code",
   "execution_count": 18,
   "id": "7e3e8738",
   "metadata": {},
   "outputs": [
    {
     "data": {
      "image/png": "[encoded data removed]",
      "text/plain": [
       "<Figure size 432x288 with 1 Axes>"
      ]
     },
     "metadata": {},
     "output_type": "display_data"
    }
   ],
   "source": [
    "# Confusion matrix \n",
    "conf_mat = confusion_matrix(val_y, rf_val_predictions)\n",
    "\n",
    "sns.heatmap(conf_mat, square=True, annot=True, fmt='d', cbar=False, \n",
    "            xticklabels=['False', 'True'], yticklabels=['False', 'True'])\n",
    "plt.xlabel('predicted value')\n",
    "plt.ylabel('actual value');  "
   ]
  },
  {
   "cell_type": "code",
   "execution_count": 19,
   "id": "4957ee1b",
   "metadata": {
    "scrolled": true
   },
   "outputs": [
    {
     "name": "stdout",
     "output_type": "stream",
     "text": [
      "              precision    recall  f1-score   support\n",
      "\n",
      "       False       0.82      0.76      0.79      1077\n",
      "        True       0.78      0.83      0.80      1097\n",
      "\n",
      "    accuracy                           0.80      2174\n",
      "   macro avg       0.80      0.80      0.80      2174\n",
      "weighted avg       0.80      0.80      0.80      2174\n",
      "\n"
     ]
    }
   ],
   "source": [
    "# Classification report  \n",
    "print(classification_report(val_y, rf_val_predictions)) "
   ]
  },
  {
   "cell_type": "markdown",
   "id": "798a352c",
   "metadata": {},
   "source": [
    "## Retrain model on entire dataset "
   ]
  },
  {
   "cell_type": "code",
   "execution_count": 20,
   "id": "c8cf059d",
   "metadata": {},
   "outputs": [
    {
     "name": "stdout",
     "output_type": "stream",
     "text": [
      "True\n"
     ]
    }
   ],
   "source": [
    "# Create a new Random Forest Classifier model and fit model on all data \n",
    "rf_model_full = RandomForestClassifier(**best_params) \n",
    "rf_model_full.fit(X, y); \n",
    "\n",
    "# Load test data\n",
    "test_data_path = 'data/'\n",
    "test_X = pd.read_csv(data_path + 'test.csv')\n",
    "\n",
    "# Replace missing numerical values with median \n",
    "numerical_cols = test_X.select_dtypes(include=['float64']).columns \n",
    "for col in numerical_cols: \n",
    "    med = test_X[col].median() \n",
    "    test_X[col].fillna(med, inplace=True)\n",
    "\n",
    "test_X[['CabinDeck', 'CabinNum', 'CabinSide']] = test_X['Cabin'].str.split('/', expand=True) \n",
    "test_X.drop('Cabin', axis=1, inplace=True)\n",
    "\n",
    "int_cols = ['CabinDeck', 'CabinSide'] \n",
    "for col in int_cols: \n",
    "    test_X[col], _ = pd.factorize(test_X[col], sort=True, na_sentinel=None) \n",
    "\n",
    "cat_cols = ['HomePlanet', 'Destination'] \n",
    "test_X = pd.get_dummies(test_X, prefix=['Home', 'Dest'], columns=cat_cols) \n",
    "\n",
    "bool_cols = ['CryoSleep', 'VIP']  \n",
    "for col in bool_cols: \n",
    "    test_X[col] = test_X[col].astype(bool) \n",
    "\n",
    "IDs = test_X['PassengerId']\n",
    "features = ['CryoSleep', 'VIP', \n",
    "       'Age', 'RoomService', 'FoodCourt', 'ShoppingMall', 'Spa', \n",
    "       'VRDeck', 'CabinDeck', 'CabinSide', \n",
    "       'Home_Earth', 'Home_Europa', 'Home_Mars', \n",
    "       'Dest_55 Cancri e', 'Dest_PSO J318.5-22', 'Dest_TRAPPIST-1e']\n",
    "test_X = test_X[features] \n",
    "\n",
    "# Verify no missing data  \n",
    "print(test_X.notna().all().all()) "
   ]
  },
  {
   "cell_type": "markdown",
   "id": "7a98682f",
   "metadata": {},
   "source": [
    "## Predict and export submission "
   ]
  },
  {
   "cell_type": "code",
   "execution_count": 21,
   "id": "dc457dc4",
   "metadata": {},
   "outputs": [],
   "source": [
    "# Predict boolean 'Transported' \n",
    "test_pred = rf_model_full.predict(test_X) \n",
    "\n",
    "# Save predictions as CSV \n",
    "output = pd.DataFrame({'PassengerId': IDs, \n",
    "                       'Transported': test_pred})\n",
    "output.to_csv(test_data_path + 'submission.csv', index=False)  "
   ]
  }
 ],
 "metadata": {
  "kernelspec": {
   "display_name": "Python 3 (ipykernel)",
   "language": "python",
   "name": "python3"
  },
  "language_info": {
   "codemirror_mode": {
    "name": "ipython",
    "version": 3
   },
   "file_extension": ".py",
   "mimetype": "text/x-python",
   "name": "python",
   "nbconvert_exporter": "python",
   "pygments_lexer": "ipython3",
   "version": "3.9.12"
  }
 },
 "nbformat": 4,
 "nbformat_minor": 5
}
